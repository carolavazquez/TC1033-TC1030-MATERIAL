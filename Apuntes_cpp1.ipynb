{
  "cells": [
    {
      "cell_type": "markdown",
      "metadata": {
        "id": "view-in-github",
        "colab_type": "text"
      },
      "source": [
        "<a href=\"https://colab.research.google.com/github/roque63/TC1033-TC1030-MATERIAL/blob/main/Apuntes_cpp1.ipynb\" target=\"_parent\"><img src=\"https://colab.research.google.com/assets/colab-badge.svg\" alt=\"Open In Colab\"/></a>"
      ]
    },
    {
      "cell_type": "markdown",
      "metadata": {
        "id": "gtntOQ9cQTvZ"
      },
      "source": [
        "# **1. Apuntes de clases**\n",
        "\n",
        "- Links de c++:\n",
        "\n",
        "  - https://en.cppreference.com/w/\n",
        "  - https://www.learncpp.com/"
      ]
    },
    {
      "cell_type": "markdown",
      "metadata": {
        "id": "wTPRjU5N6hbc"
      },
      "source": [
        "\n",
        "\n",
        "# **2. - Estudio previo de Funciones**\n",
        "\n",
        "Conceptos básicos de C++:\n",
        "\n",
        "[2.1 Introducción a las funciones.](https://www.learncpp.com/cpp-tutorial/introduction-to-functions/)\n",
        "\n",
        "[2.2 Valores de retorno de función (funciones de retorno de valor). ](https://www.learncpp.com/cpp-tutorial/function-return-values-value-returning-functions/)\n",
        "\n",
        "[2.3 Funciones void - funciones que no devuelven valor](https://www.learncpp.com/cpp-tutorial/void-functions-non-value-returning-functions/).\n",
        "\n",
        "\n",
        "[2.4 Introducción a los parámetros y argumentos de las funciones](https://www.learncpp.com/cpp-tutorial/introduction-to-function-parameters-and-arguments/)\n",
        "\n",
        "[2.5 Introducción al ámbito local](https://www.learncpp.com/cpp-tutorial/introduction-to-local-scope/)\n",
        "\n",
        "\n",
        "\n",
        "Ejemplos :"
      ]
    },
    {
      "cell_type": "markdown",
      "metadata": {
        "id": "CR7O5eoYQa_N"
      },
      "source": [
        "## **2.1 - Ejemplos con funciones con la mayoría de los formatos en c++**"
      ]
    },
    {
      "cell_type": "code",
      "source": [
        "%%writefile redondeo.cpp\n",
        "\n",
        "#include <iostream>\n",
        "#include <iomanip>\n",
        "\n",
        "// función roundToNDecimals: redondear las decimales de un valor  double\n",
        "// parametros: number a redondear, decimals cantidad de decimales a redondear\n",
        "// retorno: valor redondeado a esa cantidad de cifras decimales\n",
        "double roundToNDecimals(double number, int decimals) {\n",
        "    std::cout << std::fixed << std::setprecision(decimals);\n",
        "    return number;\n",
        "}\n",
        "\n",
        "int main() {\n",
        "    double number = 3.14159265359;\n",
        "\n",
        "    double roundedNumber = roundToNDecimals(number, 4);\n",
        "    std::cout << roundedNumber << std::endl;\n",
        "    return 0;\n",
        "}"
      ],
      "metadata": {
        "colab": {
          "base_uri": "https://localhost:8080/"
        },
        "id": "u60eQPCjDfN3",
        "outputId": "b0ca07bb-517b-4323-e028-2c5f28c92fa8"
      },
      "execution_count": null,
      "outputs": [
        {
          "output_type": "stream",
          "name": "stdout",
          "text": [
            "Writing redondeo.cpp\n"
          ]
        }
      ]
    },
    {
      "cell_type": "code",
      "source": [
        "!g++ redondeo.cpp && ./a.out"
      ],
      "metadata": {
        "colab": {
          "base_uri": "https://localhost:8080/"
        },
        "id": "ez6-h6FgDpDm",
        "outputId": "c1d34f53-9857-4a8e-888a-cff7f14e9b6b"
      },
      "execution_count": null,
      "outputs": [
        {
          "output_type": "stream",
          "name": "stdout",
          "text": [
            "3.1416\n"
          ]
        }
      ]
    },
    {
      "cell_type": "code",
      "execution_count": null,
      "metadata": {
        "id": "rbSuwG--zm4u",
        "colab": {
          "base_uri": "https://localhost:8080/"
        },
        "outputId": "d5638de7-cc9a-42fd-f86a-f2e76be9fa0d"
      },
      "outputs": [
        {
          "output_type": "stream",
          "name": "stdout",
          "text": [
            "Overwriting programaFunciones.cpp\n"
          ]
        }
      ],
      "source": [
        "%%writefile programaFunciones.cpp\n",
        "\n",
        "//\n",
        "//  main.cpp\n",
        "//  Funciones\n",
        "//\n",
        "//  Created by Ma. Guadalupe Roque Díaz de León on 21/08/23.\n",
        "//\n",
        "\n",
        "#include <iostream> // for std::cout\n",
        "#include <string>\n",
        "using namespace std;\n",
        "\n",
        "// Declaración de encabezados, se usa para colocar la codificación de\n",
        "// las funciones abajo de la función main()\n",
        "//************************************************\n",
        "void doPrint();\n",
        "int suma(int a, int b, int c);\n",
        "int suma(int a, int b);\n",
        "void mensaje(string nombre);\n",
        "//************************************************\n",
        "\n",
        "// 2.3 función sin parámetro de entrada y sin valor de retorno\n",
        "void doPrint()\n",
        "{\n",
        "    /*\n",
        "     comentario de líneas múltiples\n",
        "     comentario de líneas múltiples\n",
        "     comentario de líneas múltiples\n",
        "     comentario de líneas múltiples\n",
        "\n",
        "     */\n",
        "    std::cout << \"\\n*** Starting doPrint()\\n\";\n",
        "\n",
        "    std::cout << \"*************************\\n\";\n",
        "    std::cout << \"Yo me llamo Ma. Guadalupe\\n\";\n",
        "    std::cout << \"*************************\\n\";\n",
        "\n",
        "    std::cout << \"*** Termina doPrint()\\n\";\n",
        "\n",
        "}\n",
        "\n",
        "\n",
        "// 2.4 función con parámetro de entrada sin valor de retorno\n",
        "void mensaje(string nombre){\n",
        "    cout << \"Buenos días \" << nombre << \"!\\n\";\n",
        "    cout << \"Te quiero mucho!!\\n\";\n",
        "    cout << \"No dejes para mañana lo que puedas aprender hoy!\\n\";\n",
        "}\n",
        "\n",
        "// 2.4 función con parámetro de entrada y con valor de retorno\n",
        "int suma(int a, int b, int c){\n",
        "    return a + b + c;\n",
        "}\n",
        "\n",
        "int suma(double a, double b, double c){\n",
        "  return a + b + c;\n",
        "}\n",
        "\n",
        "// 2.4 función con parámetro de entrada y con valor de retorno\n",
        "int suma(int a, int b){\n",
        "    return a + b;\n",
        "}\n",
        "\n",
        "\n",
        "// Definition of function main()\n",
        "int main()\n",
        "{\n",
        "    // 1º declaración de variables\n",
        "    int suma3, suma2;\n",
        "\n",
        "    // 2º llamada a fx sin valor de retorno, c/argumento\n",
        "    mensaje(\"Fatima\");\n",
        "    mensaje(\"Maria\");\n",
        "    mensaje(\"Lucia\");\n",
        "    mensaje(\"Diego, Diego\");\n",
        "    mensaje(\"Luis, Luis\");\n",
        "    mensaje(\"Bruno, Krister\");\n",
        "    cout << \"Starting main()\\n\";\n",
        "\n",
        "    //3º llamada a fx sin valor de retorno, sin argumentos\n",
        "    doPrint();\n",
        "    doPrint();\n",
        "    doPrint();\n",
        "\n",
        "\n",
        "    // 4º llamada a fx suma con 3 argumentos, el valor de retorno se almacena en suma3\n",
        "    suma3 = suma(100, 100, 100);\n",
        "    cout << \"funcion suma 3 = \" << suma3 << endl;\n",
        "\n",
        "    // 5º llamar a fx suma con 2 argumentos, el valor de retorno se almacena en suma3\n",
        "    suma2 =  suma(200, 300);\n",
        "    cout << \"funcion suma 2 = \" << suma2 << endl;\n",
        "\n",
        "    return 0;\n",
        "}\n",
        "\n"
      ]
    },
    {
      "cell_type": "code",
      "execution_count": null,
      "metadata": {
        "id": "dsfa00l-3uEH",
        "colab": {
          "base_uri": "https://localhost:8080/"
        },
        "outputId": "778f7fd1-2afd-402a-df4c-7df14572f117"
      },
      "outputs": [
        {
          "output_type": "stream",
          "name": "stdout",
          "text": [
            "Buenos días Fatima!\n",
            "Te quiero mucho!!\n",
            "No dejes para mañana lo que puedas aprender hoy!\n",
            "Buenos días Maria!\n",
            "Te quiero mucho!!\n",
            "No dejes para mañana lo que puedas aprender hoy!\n",
            "Buenos días Lucia!\n",
            "Te quiero mucho!!\n",
            "No dejes para mañana lo que puedas aprender hoy!\n",
            "Buenos días Diego, Diego!\n",
            "Te quiero mucho!!\n",
            "No dejes para mañana lo que puedas aprender hoy!\n",
            "Buenos días Luis, Luis!\n",
            "Te quiero mucho!!\n",
            "No dejes para mañana lo que puedas aprender hoy!\n",
            "Buenos días Bruno, Krister!\n",
            "Te quiero mucho!!\n",
            "No dejes para mañana lo que puedas aprender hoy!\n",
            "Starting main()\n",
            "\n",
            "*** Starting doPrint()\n",
            "*************************\n",
            "Yo me llamo Ma. Guadalupe\n",
            "*************************\n",
            "*** Termina doPrint()\n",
            "\n",
            "*** Starting doPrint()\n",
            "*************************\n",
            "Yo me llamo Ma. Guadalupe\n",
            "*************************\n",
            "*** Termina doPrint()\n",
            "\n",
            "*** Starting doPrint()\n",
            "*************************\n",
            "Yo me llamo Ma. Guadalupe\n",
            "*************************\n",
            "*** Termina doPrint()\n",
            "Ending main()\n",
            "funcion suma 3 = 300\n",
            "funcion suma 2 = 500\n"
          ]
        }
      ],
      "source": [
        "!g++ programaFunciones.cpp && ./a.out"
      ]
    },
    {
      "cell_type": "code",
      "execution_count": null,
      "metadata": {
        "colab": {
          "base_uri": "https://localhost:8080/"
        },
        "id": "7C933va_DCSo",
        "outputId": "2738570d-bb80-4019-da7a-f01951e36a7c"
      },
      "outputs": [
        {
          "output_type": "stream",
          "name": "stdout",
          "text": [
            "Overwriting AreaPrismaRectangular.cpp\n"
          ]
        }
      ],
      "source": [
        "%%writefile AreaPrismaRectangular.cpp\n",
        "#include <iostream>\n",
        "using namespace std;\n",
        "\n",
        "\n",
        "double area(double base, double altura){\n",
        "  return base * altura;\n",
        "}\n",
        "\n",
        "double area_prisma(double base, double altura, double profundidad){\n",
        "  return area(base, altura) * 2 + area(base, profundidad) * 2 + area(altura, profundidad) * 2;\n",
        "}\n",
        "\n",
        "int main(){\n",
        "  // 1º Declaración de Variables\n",
        "    double base, altura, profundidad;\n",
        "\n",
        "    // 2º Leer datos de entrada\n",
        "    cout << \"Dame la base: \";\n",
        "    cin >> base;\n",
        "    cout << \"Dame la altura: \";\n",
        "    cin >> altura;\n",
        "    cout << \"Dame la profundidad: \";\n",
        "    cin >> profundidad;\n",
        "\n",
        "    // 3º Llamar a la función area_prisma( ) y desplegar los resultados\n",
        "    cout << \"El area total del prisma es: \" << area_prisma(base, altura, profundidad) << endl;\n",
        "\n",
        "\n",
        "    return 0;\n",
        "}\n"
      ]
    },
    {
      "cell_type": "code",
      "execution_count": null,
      "metadata": {
        "colab": {
          "base_uri": "https://localhost:8080/"
        },
        "id": "Sc3diQ6xDVbt",
        "outputId": "7fbaa254-8922-489b-97fe-54f7cf6e13c7"
      },
      "outputs": [
        {
          "output_type": "stream",
          "name": "stdout",
          "text": [
            "Dame la base: 4\n",
            "Dame la altura: 5\n",
            "Dame la profundidad: 5\n",
            "El area total del prisma es: 130\n"
          ]
        }
      ],
      "source": [
        "!g++ AreaPrismaRectangular.cpp && ./a.out"
      ]
    },
    {
      "cell_type": "markdown",
      "source": [
        "  ## **2.2 -Parámetros por referencia**\n",
        "\n",
        "- En C++, los parámetros por referencia son una forma de pasar argumentos a una función de manera que la función pueda modificar directamente el valor de la variable original en lugar de trabajar con una copia de la variable.\n",
        "Esto se logra mediante el uso del operador de referencia &.  \n",
        "\n",
        "- Los parámetros por referencia son útiles cuando deseas que una función realice cambios en una variable y que esos cambios se reflejen en el ámbito desde donde se llamó la función.\n",
        "-\n",
        "\n",
        "- Para declarar un parámetro por referencia en una función de C++, sigue estos pasos:\n",
        "\n",
        "Usa el operador & después del tipo de dato del parámetro en la declaración de la función.\n",
        "\n",
        "- Dentro de la función, puedes tratar el parámetro como si fuera una variable normal, y cualquier modificación que hagas en ese parámetro afectará a la variable original en el ámbito de llamada.\n",
        "\n",
        "Aquí tienes un ejemplo simple de cómo se utiliza un parámetro por referencia en C++:"
      ],
      "metadata": {
        "id": "8r3djWqgn6xJ"
      }
    },
    {
      "cell_type": "code",
      "source": [
        "%%writefile ParametrosXRefencia.cpp\n",
        "#include <iostream>\n",
        "using namespace std;\n",
        "\n",
        "// Declaración de una función que toma un parámetro por referencia.\n",
        "void cambiaPorReferencia(int &numero) {\n",
        "    numero = numero * 5;\n",
        "}\n",
        "\n",
        "int main() {\n",
        "    int miNumero = 5;\n",
        "\n",
        "    cout << \"Valor inicial: \" << miNumero << endl;\n",
        "\n",
        "    // Llamar a la función pasando miNumero por referencia.\n",
        "    cambiaPorReferencia(miNumero);\n",
        "\n",
        "    cout << \"Valor después de llamar a la función: \" << miNumero << endl;\n",
        "\n",
        "    return 0;\n",
        "}"
      ],
      "metadata": {
        "colab": {
          "base_uri": "https://localhost:8080/"
        },
        "id": "QtxQktjrn571",
        "outputId": "cd6fbdaf-7ef3-4409-b201-b59e6663f53e"
      },
      "execution_count": null,
      "outputs": [
        {
          "output_type": "stream",
          "name": "stdout",
          "text": [
            "Writing ParametrosXRefencia.cpp\n"
          ]
        }
      ]
    },
    {
      "cell_type": "code",
      "source": [
        "!g++ ParametrosXRefencia.cpp && ./a.out"
      ],
      "metadata": {
        "colab": {
          "base_uri": "https://localhost:8080/"
        },
        "id": "DvbAIcsSopak",
        "outputId": "240e3ad2-6ead-4f0d-8464-a10d1fac6ff5"
      },
      "execution_count": null,
      "outputs": [
        {
          "output_type": "stream",
          "name": "stdout",
          "text": [
            "Valor inicial: 5\n",
            "Valor después de llamar a la función: 25\n"
          ]
        }
      ]
    },
    {
      "cell_type": "markdown",
      "source": [
        "# **4. Condicionales**\n",
        "Valores booleanos : bool\n",
        "- https://www.learncpp.com/cpp-tutorial/boolean-values/\n",
        "- https://www.learncpp.com/cpp-tutorial/introduction-to-if-statements/\n",
        "-https://www.learncpp.com/cpp-tutorial/switch-statement-basics/\n",
        "\n",
        "\n",
        "- valores booleanos en c++ son: true y false\n",
        "\n",
        "# Operadores relacionales\n",
        "\n",
        "<font size = 4>\n",
        "\n",
        "| operador | Description |\n",
        "| ----------- | ----------- |\n",
        "| <= | menor o igual |\n",
        "| >= | mayor o igual |\n",
        "| < | menor que |\n",
        "| > | mayor que |\n",
        "| == | igual |\n",
        "| !=  | diferente |\n",
        "\n",
        "</font>\n",
        "\n",
        "# Operadores logicos\n",
        "| operador | Descripción |\n",
        "| ----------- | ----------- |\n",
        "| && | operador lógico and |\n",
        "|  ⎮⎮ | operador lógico or  |\n",
        "| ! | operador lógico de negación |\n",
        "\n",
        "\n",
        "# Tabla de verdad del and\n",
        "| operador | Descripción |\n",
        "| ----------- | ----------- |\n",
        "| true  **&&**    true | true  |\n",
        "| true  **&&**    false | false  |\n",
        "| false  **&&**    true | false  |\n",
        "| false  **&&**    false | false  |\n",
        "\n",
        "# Tabla de verdad del or\n",
        "| operador | Descripción |\n",
        "| ----------- | ----------- |\n",
        "| true   **⎮⎮**    true | true  |\n",
        "| true  **⎮⎮**    false | true  |\n",
        "| false  **⎮⎮**    true | true  |\n",
        "| false  **⎮⎮**    false | false  |\n",
        "\n",
        "\n",
        "# Tabla de verdad del not\n",
        "| operador | Descripción |\n",
        "| ----------- | ----------- |\n",
        "| **!** true | false  |\n",
        "| **!** false | true  |\n",
        "\n",
        "\n",
        "# Jerarquia de evaluación\n",
        "|  | operador | Descripción |\n",
        "| ----------- | ----------- | ----------- |\n",
        "| 1\t| ( ) |\tparéntesis para agrupar |\n",
        "| 2\t| +, -, !\t| positivo, negativo, negacion lógica|\n",
        "| 3\t| *, /, %\t| multiplicación, división y residuo |\n",
        "| 4\t| +, -\t| suma, resta |\n",
        "| 5\t| <, <=, >, >= | \toperadores de comparación |\n",
        "| 6\t|  !=, == | \tcomparación de igualdad |\n",
        "| 7\t| &&\t| operador  and |\n",
        "| 8\t|⎮⎮\t| operador  or |\n",
        "\n",
        "\n",
        "\n",
        "# Ejemplo\n",
        "\n",
        "##Sintaxis if sencillo\n",
        "\n",
        "if (expresion){\n",
        "\n",
        "    bloque verdadero\n",
        "\n",
        "}\n",
        "\n",
        "##Sintaxis if con else\n",
        "\n",
        "if (expresion){\n",
        "\n",
        "    Bloque verdadero\n",
        "}\n",
        "else {\n",
        "\n",
        "    Bloque falso\n",
        "\n",
        "}\n",
        "\n",
        "##Sintaxis if anidados\n",
        "\n",
        "if ( condicion ) {\n",
        "  \n",
        "    Bloque verdadero\n",
        "}.\n",
        "\n",
        "else if (condicion ) {\n",
        "\n",
        "      Bloque verdadero\n",
        "}\n",
        "else if (condicion ) {.\n",
        "\n",
        "      Bloque verdadero\n",
        "}\n",
        "else if (condicion ) {\n",
        "\n",
        "      Bloque verdadero\n",
        "}\n",
        "\n",
        "else {  \n",
        "\n",
        "    Bloque falso final\n",
        "}\n",
        "\n",
        "</div>"
      ],
      "metadata": {
        "id": "DJSiXNGgA-BX"
      }
    },
    {
      "cell_type": "code",
      "source": [],
      "metadata": {
        "id": "kOdRAdOxGwnG"
      },
      "execution_count": null,
      "outputs": []
    },
    {
      "cell_type": "code",
      "source": [
        "%%writefile condiciones1.cpp\n",
        "\n",
        "//\n",
        "//  condiciones1.cpp\n",
        "//  condiciones\n",
        "//\n",
        "//  Created by Ma. Guadalupe Roque Díaz de León on 21/08/23.\n",
        "//\n",
        "\n",
        "#include <iostream> // for std::cout\n",
        "#include <string>\n",
        "using namespace std;\n",
        "\n",
        "int main( ){\n",
        "  // 1º Declaración de variables\n",
        "  int matricula;\n",
        "\n",
        "  // 2º Leer la matricula\n",
        "  cout << \"Teclea la matricula:\";\n",
        "  cin >> matricula;\n",
        "\n",
        "  // 3º Verificar si la matricula es par\n",
        "  if (matricula % 2 == 0){\n",
        "    cout << matricula << \" es PAR Felicidades\\n\";\n",
        "  }\n",
        "  else {\n",
        "    cout << matricula << \" es IMPAR Felicidades\\n\";\n",
        "\n",
        "  }\n",
        "  return 0;\n",
        "}"
      ],
      "metadata": {
        "id": "2L1Qy5aVBjRW",
        "colab": {
          "base_uri": "https://localhost:8080/"
        },
        "outputId": "5fdb96ff-5855-4d19-9302-4d99282a12e9"
      },
      "execution_count": null,
      "outputs": [
        {
          "output_type": "stream",
          "name": "stdout",
          "text": [
            "Overwriting condiciones1.cpp\n"
          ]
        }
      ]
    },
    {
      "cell_type": "code",
      "source": [
        "!g++ condiciones1.cpp && ./a.out"
      ],
      "metadata": {
        "colab": {
          "base_uri": "https://localhost:8080/"
        },
        "id": "yd45RoJrEKJ2",
        "outputId": "a4697e68-4b5e-4252-e473-4a9cddee4034"
      },
      "execution_count": null,
      "outputs": [
        {
          "output_type": "stream",
          "name": "stdout",
          "text": [
            "Teclea la matricula:11111\n",
            "11111 es IMPAR Felicidades\n"
          ]
        }
      ]
    },
    {
      "cell_type": "markdown",
      "source": [
        "Switch"
      ],
      "metadata": {
        "id": "oAHK_PjEaXN8"
      }
    },
    {
      "cell_type": "code",
      "source": [
        "%%writefile if_switch.cpp\n",
        "#include <iostream>\n",
        "using namespace std;\n",
        "void despliegaTiro(int x)\n",
        "{\n",
        "    cout << \"Tiro \";\n",
        "    if (x == 1)\n",
        "        cout << \"Piedra\\n\";\n",
        "    else if (x == 2)\n",
        "        cout << \"Papel\\n\";\n",
        "    else if (x == 3)\n",
        "        cout << \"Tijera\\n\";\n",
        "    else\n",
        "        cout << \"Incorrecto\\n\";\n",
        "}\n",
        "\n",
        "void despliegaConString(string jugador)\n",
        "{\n",
        "    cout << \"Tiro \";\n",
        "    if (x == 1)\n",
        "        cout << \"Piedra\\n\";\n",
        "    else if (x == 2)\n",
        "        cout << \"Papel\\n\";\n",
        "    else if (x == 3)\n",
        "        cout << \"Tijera\\n\";\n",
        "    else\n",
        "        cout << \"Incorrecto\\n\";\n",
        "}\n",
        "\n",
        "void despliegaTiroConSwitch(int x)\n",
        "{\n",
        "    cout << \"Tiro \";\n",
        "\n",
        "    switch (x){\n",
        "      case 1: cout << \"Piedra\\n\";\n",
        "              break;\n",
        "      case 2: cout << \"Papel\\n\";\n",
        "              break;\n",
        "      case 3: cout << \"Tijera\\n\";\n",
        "              break;\n",
        "      default:\n",
        "              cout << \"Incorrecto\\n\";\n",
        "    }\n",
        "\n",
        "}\n",
        "\n",
        "void despliegaPalabrasConSwitch(char opcion)\n",
        "{\n",
        "    cout << \"Quieres \";\n",
        "    switch (opcion){\n",
        "      case 'a': cout << \"analizar\\nalmejas\\n\";\n",
        "              break;\n",
        "      case 'e': cout << \"empanadas\\nelotes\\nentusiasmo\\n\";\n",
        "              break;\n",
        "      case 'i': cout << \"inteligencia\\ninteres\\ninnovación\\n\";\n",
        "              break;\n",
        "      default:\n",
        "              cout << \"observar\\nuniformidad\\n\";\n",
        "    }\n",
        "}\n",
        "\n",
        "int main()\n",
        "{\n",
        "    int tiro;\n",
        "    char vocal;\n",
        "\n",
        "    cout << \"1. Piedra \\n2. Papel \\n3. Tijera \\nTeclea la opcion:\";\n",
        "    cin >> tiro;\n",
        "    despliegaTiro(tiro);\n",
        "    despliegaTiroConSwitch(tiro);\n",
        "\n",
        "\n",
        "    cout << \"Teclea una vocal:\";\n",
        "    cin >> vocal;\n",
        "    despliegaPalabrasConSwitch(vocal);\n",
        "\n",
        "    return 0;\n",
        "}"
      ],
      "metadata": {
        "colab": {
          "base_uri": "https://localhost:8080/"
        },
        "id": "fSWhWq4yZDDO",
        "outputId": "5a108920-b599-4763-8606-f800ec4423e9"
      },
      "execution_count": null,
      "outputs": [
        {
          "output_type": "stream",
          "name": "stdout",
          "text": [
            "Writing if_switch.cpp\n"
          ]
        }
      ]
    },
    {
      "cell_type": "code",
      "source": [
        "!g++ if_switch.cpp && ./a.out"
      ],
      "metadata": {
        "colab": {
          "base_uri": "https://localhost:8080/"
        },
        "id": "IM-aj7o7aE1l",
        "outputId": "7dc6135e-4bc6-48d9-e29d-bf2acf84c1ad"
      },
      "execution_count": null,
      "outputs": [
        {
          "output_type": "stream",
          "name": "stdout",
          "text": [
            "1. Piedra \n",
            "2. Papel \n",
            "3. Tijera \n",
            "Teclea la opcion:3\n",
            "Tiro Tijera\n",
            "Tiro Tijera\n",
            "Teclea una vocal:e\n",
            "Quieres empanadas\n",
            "elotes\n",
            "entusiasmo\n",
            "inteligencia\n",
            "interes\n",
            "innovación\n"
          ]
        }
      ]
    },
    {
      "cell_type": "code",
      "source": [
        "%%writefile if_switch.cpp\n",
        "#include <iostream>\n",
        "using namespace std;\n",
        "void despliegaTiro(int x)\n",
        "{\n",
        "    cout << \"Tiro \";\n",
        "    if (x == 1)\n",
        "        cout << \"Piedra\\n\";\n",
        "    else if (x == 2)\n",
        "        cout << \"Papel\\n\";\n",
        "    else if (x == 3)\n",
        "        cout << \"Tijera\\n\";\n",
        "    else\n",
        "        cout << \"Incorrecto\\n\";\n",
        "}\n",
        "\n",
        "void despliegaTiroConSwitch(int x)\n",
        "{\n",
        "    cout << \"Tiro \";\n",
        "    switch (x){\n",
        "      case 1: cout << \"Piedra\\n\";\n",
        "              break;\n",
        "      case 2: cout << \"Papel\\n\";\n",
        "              break;\n",
        "      case 3: cout << \"Tijera\\n\";\n",
        "              break;\n",
        "      default:\n",
        "              cout << \"Incorrecto\\n\";\n",
        "    }\n",
        "}\n",
        "\n",
        "void despliegaPalabrasConSwitch(char opcion)\n",
        "{\n",
        "    cout << \"Quieres \";\n",
        "    switch (opcion){\n",
        "      case 'a': cout << \"analizar\\nalmejas\\n\";\n",
        "              break;\n",
        "      case 'e': cout << \"empanadas\\nelotes\\nentusiasmo\\n\";\n",
        "              break;\n",
        "      case 'i': cout << \"inteligencia\\ninteres\\ninnovación\\n\";\n",
        "              break;\n",
        "      default:\n",
        "              cout << \"observar\\nuniformidad\\n\";\n",
        "    }\n",
        "}\n",
        "\n",
        "\n",
        "void despliegaPalabrasConSwitch2(char opcion)\n",
        "{\n",
        "    cout << \"Quieres \";\n",
        "    switch (opcion){\n",
        "      case 'i': case 't': case 'j': case 'c': case '3': case '%':\n",
        "              cout << \"analizar\\ncodificar\\ndiseñar\\ningeniar\";\n",
        "              break;\n",
        "      case 'e': cout << \"empanadas\\nelotes\\nentusiasmo\\n\";\n",
        "\n",
        "      case 'z': cout << \"inteligencia\\ninteres\\ninnovación\\n\";\n",
        "              break;\n",
        "      default:\n",
        "              cout << \"observar\\nuniformidad\\n\";\n",
        "    }\n",
        "}\n",
        "int main()\n",
        "{\n",
        "    int tiro;\n",
        "    char vocal;\n",
        "\n",
        "    cout << \"1. Piedra \\n2. Papel \\n3. Tijera \\nTeclea la opcion:\";\n",
        "    cin >> tiro;\n",
        "    despliegaTiro(tiro);\n",
        "    despliegaTiroConSwitch(tiro);\n",
        "\n",
        "\n",
        "    cout << \"Teclea una vocal:\";\n",
        "    cin >> vocal;\n",
        "    despliegaPalabrasConSwitch2(vocal);\n",
        "\n",
        "    return 0;\n",
        "}\n"
      ],
      "metadata": {
        "colab": {
          "base_uri": "https://localhost:8080/"
        },
        "id": "yHGHdxM6aLkG",
        "outputId": "ec0a081e-2594-4b9d-9663-a2f49a398dd5"
      },
      "execution_count": null,
      "outputs": [
        {
          "output_type": "stream",
          "name": "stdout",
          "text": [
            "Overwriting if_switch.cpp\n"
          ]
        }
      ]
    },
    {
      "cell_type": "markdown",
      "source": [
        "# **5. Ciclo while**\n",
        "\n",
        "- Instrucción **while** - Ejecuta repetitivamente un bloque de instrucciones, mientras la condición es ***`True`***\n",
        "\n",
        "- Primero se evalúa la **condición**, mientras sea ***`True`*** ejecuta una y otra vez el bloque de instrucciones, en caso de ser ***`False`*** salta el bloque de instrucciones del ciclo y continua ejecutando las instrucciones que estén después del while.\n",
        "\n",
        "- Sintaxis:  \n",
        "```cpp\n",
        "// inicializar la vcc antes del ciclo\n",
        "while (condición){\n",
        "    // Bloque de instrucciones\n",
        "      \n",
        "    // Instrucciones indentadas\n",
        "    instrucción 1\n",
        "                :\n",
        "    instrucción iN\n",
        "    // actualizar la vcc dentro del ciclo\n",
        "}\n"
      ],
      "metadata": {
        "id": "57NdhPoBGw04"
      }
    },
    {
      "cell_type": "markdown",
      "source": [
        "# **5.1- Ciclo Contador**\n",
        "Para la solución de problemas con ciclos contador se requiere de una variable contador, para diseñar un ciclo contador que va desde 1 hasta n se deben seguir estas reglas:\n",
        "\n",
        "- Regla 1. Inicializar el contador antes del ciclo:\n",
        "\n",
        "  - contador = 1\n",
        "\n",
        "- Regla 2. Actualizar el contador dentro del ciclo:\n",
        "\n",
        "  - contador = contador + 1\n",
        "\n",
        "- Regla 3. La condición debe ser:  \n",
        "  - while (contador <= n)  \n",
        "\n",
        "\n",
        "\n",
        "- Diseño de un ciclo Contador creciente (1..n) :  \n",
        "```cpp\n",
        "// ingresar o inicializar la cantidad de veces que se ejecutará el ciclo\n",
        "cin >> n;\n",
        "// 1º inicializar la vcc antes del ciclo\n",
        "contador = 1;\n",
        "// 2º Incluir la vcc en la condición\n",
        "while (contador <= n){\n",
        "    // Bloque de instrucciones\n",
        "        \n",
        "    // 3º Actualizar la vcc dentro del ciclo\n",
        "    contador = contador + 1;\n",
        "}\n",
        "```\n",
        "\n",
        "\n",
        "- Diseño de un ciclo Contador decreciente (n..1):  \n",
        "```cpp\n",
        "// ingresar o inicializar la cantidad de veces que se ejecutará el ciclo\n",
        "cin >> n;\n",
        "// 1º inicializar la vcc antes del ciclo\n",
        "contador = n;\n",
        "// 2º Incluir la vcc en la condición\n",
        "while (contador >= 1){\n",
        "    // Bloque de instrucciones\n",
        "        \n",
        "    // 3º Actualizar la vcc dentro del ciclo\n",
        "    contador = contador - 1;\n",
        "}\n",
        "```\n"
      ],
      "metadata": {
        "id": "IfCvvDRXpSIT"
      }
    },
    {
      "cell_type": "markdown",
      "source": [
        "# **5.2 Acumuladores**\n",
        "\n",
        "Para la solución de problemas con ciclos frecuentemente se requiere ir acumulando diferentes valores, entonces se usa una o varias variables que van acumulando.\n",
        "\n",
        "# Reglas para los acumuladores de Sumatoria:\n",
        "       \n",
        "- Inicializar ✏️ el acumulador antes del ciclo:\n",
        "```\n",
        "acum = 0;\n",
        "```\n",
        "- Actualizar ✅ la variable acumulador dentro del ciclo\n",
        "```\n",
        "acum = acum + expresion; o acum += expresion;\n",
        "```\n",
        "\n",
        "# Reglas para los acumuladores de Multiplicatoria:\n",
        "\n",
        "- Inicializar  ✏️  el acumulador antes del ciclo:\n",
        "```\n",
        "acum = 1;\n",
        "```\n",
        "- Actualizar ✅ la variable acumulador dentro del ciclo\n",
        "```\n",
        "acum = acum * expresion; o acum *= expresion;\n",
        "```"
      ],
      "metadata": {
        "id": "KdpOW2_Zpatg"
      }
    },
    {
      "cell_type": "code",
      "source": [
        "%%writefile cicloWhile.cpp\n",
        "#include <iostream>\n",
        "using namespace std;\n",
        "\n",
        "void cicloContadorCreciente(){\n",
        "int contador, n;\n",
        "\n",
        "cout << \"Teclea la cantidad de veces :\";\n",
        "cin >> n;\n",
        "// inicializar la vcc contador con 1 antes del ciclo 1..n\n",
        "contador = 1;\n",
        "// ciclo que se ejuta n veces 1..n\n",
        "while (contador <= n){\n",
        "  // Bloque de instruccione\n",
        "  cout << contador << endl;\n",
        "  // actualizar la vcc dentro del ciclo contador = contador + 1;\n",
        "  contador++; }\n",
        "}\n",
        "\n",
        "void cicloContadorDecreciente(){\n",
        "int contador, n;\n",
        "\n",
        "cout << \"Teclea la cantidad de veces :\";\n",
        "cin >> n;\n",
        "\n",
        "// inicializar la vcc contador con 1 antes del ciclo 1..n\n",
        "contador = n;\n",
        "// ciclo que se ejuta n veces n..1\n",
        "while (contador >= 1){\n",
        "  // Bloque de instruccione\n",
        "  cout << contador << endl;\n",
        "  // actualizar la vcc dentro del ciclo contador = contador - 1;\n",
        "  contador--;\n",
        "}\n",
        "\n",
        "}\n",
        "\n",
        "void tienditaMariaSofia( ){\n",
        "int n, vcc, precio, totalPagar;\n",
        "\n",
        "// inicializar las variables\n",
        "cout << \"Teclea la cantidad de productos:\";\n",
        "cin >> n;\n",
        "\n",
        "// 1º inicializar la vcc antes del ciclo\n",
        "vcc = 1;\n",
        "totalPagar = 0;\n",
        "\n",
        "// 2º añadir en la condicion del ciclo la vcc\n",
        "while (vcc <= n){\n",
        " cout << \"Teclea el precio del producto\" << vcc << \":\";\n",
        " cin >> precio;\n",
        "\n",
        " // se incrementa el acumulador con el valor de precio\n",
        " totalPagar = totalPagar + precio;\n",
        "\n",
        " // 3º actualizar la vcc\n",
        " vcc++;\n",
        "}\n",
        "\n",
        "cout << \"Total a Pagar $\" << totalPagar << endl;\n",
        "}\n",
        "\n",
        "int main(){\n",
        "int opcion;\n",
        "  cout << \" 1. contador creciente \\n2. Contador Decreciente \\n3. Tiendita Maria Sofía\\n0. Salir\\nTeclea la opcion:\";\n",
        "  cin >> opcion;\n",
        "\n",
        "\n",
        "  switch (opcion){\n",
        "    case 0: cout << \"Feliz fin de semana\\n\";\n",
        "      break;\n",
        "    case 1: cicloContadorCreciente();\n",
        "      break;\n",
        "    case 2:cicloContadorDecreciente();\n",
        "      break;\n",
        "    case 3: tienditaMariaSofia( );\n",
        "      break;\n",
        "    default:\n",
        "        cout << \"Opcion incorrecta!!\";\n",
        "\n",
        "  }\n",
        "\n",
        "\n",
        "    return 0;\n",
        "}"
      ],
      "metadata": {
        "colab": {
          "base_uri": "https://localhost:8080/"
        },
        "id": "1_p6DQdrso1U",
        "outputId": "b0c3967d-f4ed-46b9-a2a5-7e630f683f9e"
      },
      "execution_count": null,
      "outputs": [
        {
          "output_type": "stream",
          "name": "stdout",
          "text": [
            "Writing cicloWhile.cpp\n"
          ]
        }
      ]
    },
    {
      "cell_type": "code",
      "source": [
        "!g++ cicloWhile.cpp && ./a.out"
      ],
      "metadata": {
        "colab": {
          "base_uri": "https://localhost:8080/"
        },
        "id": "PpB7NdZdu84Y",
        "outputId": "50791f0b-cb9c-4d3e-dc06-69bc19856d11"
      },
      "execution_count": null,
      "outputs": [
        {
          "output_type": "stream",
          "name": "stdout",
          "text": [
            "\u001b[01m\u001b[Kcc1plus:\u001b[m\u001b[K \u001b[01;31m\u001b[Kfatal error: \u001b[m\u001b[KcicloWhile.cpp: No such file or directory\n",
            "compilation terminated.\n"
          ]
        }
      ]
    },
    {
      "cell_type": "markdown",
      "source": [
        "  # **5.2 Ciclo centinela dentro de la función  main()**\n",
        "\n",
        "```cpp\n",
        "int main(){\n",
        "int opcion;\n",
        "\n",
        "  // 1º Inicializar la vccc antes del ciclo\n",
        "  cout << \"\\n1. contador creciente \\n2. Contador Decreciente \\n3. Tiendita Maria Sofía\\n0. Salir\\nTeclea la opcion:\";\n",
        "  cin >> opcion;\n",
        "\n",
        "  // 2º Diseñar la condición de ejecución del ciclo CENTINELA\n",
        "  while (opcion != 0){\n",
        "      switch (opcion){\n",
        "        case 0:\n",
        "          cout << \"Feliz fin de semana\\n\";\n",
        "          break;\n",
        "        case 1: // llamada a la función\n",
        "          cicloContadorCreciente();\n",
        "          break;\n",
        "        case 2: // llamada a la función\n",
        "          cicloContadorDecreciente();\n",
        "          break;\n",
        "        case 3: // llamada a la función\n",
        "          tienditaMariaSofia( );\n",
        "          break;\n",
        "        default:\n",
        "          cout << \"Opcion incorrecta!!\";\n",
        "      }\n",
        "\n",
        "  // 3º Actualizar la vccc dentro del ciclo\n",
        "  cout << \" 1. contador creciente \\n2. Contador Decreciente \\n3. Tiendita Maria Sofía\\n0. Salir\\nTeclea la opcion:\";\n",
        "  cin >> opcion;\n",
        "\n",
        "  }\n",
        "    return 0;\n",
        "}\n",
        "```"
      ],
      "metadata": {
        "id": "MaR49FcInauD"
      }
    },
    {
      "cell_type": "code",
      "source": [
        "%%writefile cicloWhileCENTINELA.cpp\n",
        "\n",
        "#include <iostream>\n",
        "using namespace std;\n",
        "\n",
        "void cicloContadorCreciente(){\n",
        "int contador, n;\n",
        "\n",
        "cout << \"Teclea la cantidad de veces :\";\n",
        "cin >> n;\n",
        "// inicializar la vcc contador con 1 antes del ciclo 1..n\n",
        "contador = 1;\n",
        "// ciclo que se ejuta n veces 1..n\n",
        "while (contador <= n){\n",
        "  // Bloque de instruccione\n",
        "  cout << contador << endl;\n",
        "  // actualizar la vcc dentro del ciclo contador = contador + 1;\n",
        "  contador++; }\n",
        "}\n",
        "\n",
        "void cicloContadorDecreciente(){\n",
        "int contador, n;\n",
        "\n",
        "cout << \"Teclea la cantidad de veces :\";\n",
        "cin >> n;\n",
        "\n",
        "// inicializar la vcc contador con 1 antes del ciclo 1..n\n",
        "contador = n;\n",
        "// ciclo que se ejuta n veces n..1\n",
        "while (contador >= 1){\n",
        "  // Bloque de instruccione\n",
        "  cout << contador << endl;\n",
        "  // actualizar la vcc dentro del ciclo contador = contador - 1;\n",
        "  contador--;\n",
        "}\n",
        "\n",
        "}\n",
        "\n",
        "void tienditaMariaSofia( ){\n",
        "int n, vcc, precio, totalPagar;\n",
        "\n",
        "// inicializar las variables\n",
        "cout << \"Teclea la cantidad de productos:\";\n",
        "cin >> n;\n",
        "\n",
        "// 1º inicializar la vcc antes del ciclo\n",
        "vcc = 1;\n",
        "totalPagar = 0;\n",
        "\n",
        "// 2º añadir en la condicion del ciclo la vcc\n",
        "while (vcc <= n){\n",
        " cout << \"Teclea el precio del producto\" << vcc << \":\";\n",
        " cin >> precio;\n",
        "\n",
        " // se incrementa el acumulador con el valor de precio\n",
        " totalPagar = totalPagar + precio;\n",
        "\n",
        " // 3º actualizar la vcc\n",
        " vcc++;\n",
        "}\n",
        "\n",
        "cout << \"Total a Pagar $\" << totalPagar << endl;\n",
        "}\n",
        "\n",
        "int main(){\n",
        "int opcion;\n",
        "\n",
        "  // 1º Inicializar la vccc antes del ciclo\n",
        "  cout << \"\\n1. contador creciente \\n2. Contador Decreciente \\n3. Tiendita Maria Sofía\\n0. Salir\\nTeclea la opcion:\";\n",
        "  cin >> opcion;\n",
        "\n",
        "\n",
        "  // 2º Diseñar la condición de ejecución del ciclo CENTINELA\n",
        "  while (opcion != 0){\n",
        "\n",
        "  switch (opcion){\n",
        "    case 0: cout << \"Feliz fin de semana\\n\";\n",
        "      break;\n",
        "    case 1: cicloContadorCreciente();\n",
        "      break;\n",
        "    case 2:cicloContadorDecreciente();\n",
        "      break;\n",
        "    case 3: tienditaMariaSofia( );\n",
        "      break;\n",
        "    default:\n",
        "        cout << \"Opcion incorrecta!!\";\n",
        "\n",
        "  }\n",
        "\n",
        "  // 3º Actualizar la vccc dentro del ciclo\n",
        "  cout << \" 1. contador creciente \\n2. Contador Decreciente \\n3. Tiendita Maria Sofía\\n0. Salir\\nTeclea la opcion:\";\n",
        "  cin >> opcion;\n",
        "\n",
        "  }\n",
        "    return 0;\n",
        "}"
      ],
      "metadata": {
        "colab": {
          "base_uri": "https://localhost:8080/"
        },
        "id": "Ll5DqJP8kCQF",
        "outputId": "71257111-d5b0-4a26-ea14-80c142753b78"
      },
      "execution_count": null,
      "outputs": [
        {
          "output_type": "stream",
          "name": "stdout",
          "text": [
            "Writing cicloWhileCENTINELA.cpp\n"
          ]
        }
      ]
    },
    {
      "cell_type": "code",
      "source": [
        "!g++ cicloWhileCENTINELA.cpp && ./a.out"
      ],
      "metadata": {
        "id": "BVn1LKNynGo-"
      },
      "execution_count": null,
      "outputs": []
    },
    {
      "cell_type": "markdown",
      "source": [
        "# **6. Ciclo for**\n",
        "\n",
        "**Estudio previo** -\n",
        "\n",
        "- https://www.learncpp.com/cpp-tutorial/for-statements/\n",
        "\n"
      ],
      "metadata": {
        "id": "MmLm08EzrCxF"
      }
    },
    {
      "cell_type": "code",
      "source": [
        "%%writefile cicloForContador.cpp\n",
        "\n",
        "#include <iostream>\n",
        "using namespace std;\n",
        "\n",
        "void cicloContadorCrecienteFor(int n){\n",
        "\n",
        "// 1º inicializacion; condicion;   actualizacion\n",
        "for( int contador = 1; contador <= n;  contador++){ // contador es local al for\n",
        "  cout << contador << endl;\n",
        "}\n",
        "}\n",
        "\n",
        "void cicloContadorDecrecienteFor(int n){\n",
        "// 1º inicializacion; condicion;   actualizacion\n",
        "for( int contador = n; contador >= 1;  contador--){ // contador es local al for\n",
        "  cout << contador << endl;\n",
        "}\n",
        "\n",
        "}\n",
        "\n",
        "\n",
        "void menu(int &opcion){\n",
        "\n",
        "  cout << \"1. Ciclo contador creciente for\\n\" <<\n",
        "  \"2. Ciclo contador decreciente for\\n\" <<\n",
        "  \"3. 03 sumar for\\n\" <<\n",
        "  \"4. 04  for\\n\" <<\n",
        "  \"0. Salir\\n\"<<\n",
        "  \"Teclea la opcion: \";\n",
        "\n",
        "  cin >> opcion;\n",
        "}\n",
        "\n",
        "int main(){\n",
        "int n, opcion;\n",
        "\n",
        "//1º Inicializar la vccc antes del ciclo llamar a menu\n",
        "menu(opcion);\n",
        "\n",
        "// añadir el ciclo centinela\n",
        "// 2º incluir en la condicion a la vccc\n",
        "while (opcion != 0){\n",
        "  if (opcion == 1){\n",
        "    cout << \"Ingresa la cantidad de veces que deseas ejecutar el ciclo: \";\n",
        "    cin >> n;\n",
        "    cicloContadorCrecienteFor(n); // Paso x valor\n",
        "  }\n",
        "  else if (opcion == 2){\n",
        "    cout << \"Ingresa la cantidad de veces que deseas ejecutar el ciclo: \";\n",
        "    cin >> n;\n",
        "    cicloContadorDecrecienteFor(n);\n",
        "  }\n",
        "\n",
        "  //3º Actualizar la vccc DENTRO del ciclo Hector\n",
        "  menu(opcion);\n",
        "\n",
        "}\n",
        "\n",
        "cout << \"Adios!! Feliz semana Tec\\n\";\n",
        " return 0;\n",
        "}\n",
        "\n"
      ],
      "metadata": {
        "colab": {
          "base_uri": "https://localhost:8080/"
        },
        "id": "d1CIyV2QuFtM",
        "outputId": "f75a92d5-a7d0-4dbe-d157-b5ea1f19c749"
      },
      "execution_count": null,
      "outputs": [
        {
          "output_type": "stream",
          "name": "stdout",
          "text": [
            "Overwriting cicloForContador.cpp\n"
          ]
        }
      ]
    },
    {
      "cell_type": "code",
      "source": [
        "!g++ cicloForContador.cpp && ./a.out"
      ],
      "metadata": {
        "colab": {
          "base_uri": "https://localhost:8080/"
        },
        "id": "QaEsxigVxAoL",
        "outputId": "4d4c523b-9d1c-48cc-a83e-b4a6115cf215"
      },
      "execution_count": null,
      "outputs": [
        {
          "output_type": "stream",
          "name": "stdout",
          "text": [
            "1. Ciclo contador creciente for\n",
            "2. Ciclo contador decreciente for\n",
            "3. 03 sumar for\n",
            "4. 04  for\n",
            "0. Salir\n",
            "Teclea la opcion: 2\n",
            "Ingresa la cantidad de veces que deseas ejecutar el ciclo: 5\n",
            "5\n",
            "4\n",
            "3\n",
            "2\n",
            "1\n",
            "1. Ciclo contador creciente for\n",
            "2. Ciclo contador decreciente for\n",
            "3. 03 sumar for\n",
            "4. 04  for\n",
            "0. Salir\n",
            "Teclea la opcion: 2\n",
            "Ingresa la cantidad de veces que deseas ejecutar el ciclo: 6\n",
            "6\n",
            "5\n",
            "4\n",
            "3\n",
            "2\n",
            "1\n",
            "1. Ciclo contador creciente for\n",
            "2. Ciclo contador decreciente for\n",
            "3. 03 sumar for\n",
            "4. 04  for\n",
            "0. Salir\n",
            "Teclea la opcion: 2\n",
            "Ingresa la cantidad de veces que deseas ejecutar el ciclo: 4\n",
            "4\n",
            "3\n",
            "2\n",
            "1\n",
            "1. Ciclo contador creciente for\n",
            "2. Ciclo contador decreciente for\n",
            "3. 03 sumar for\n",
            "4. 04  for\n",
            "0. Salir\n",
            "Teclea la opcion: 0\n",
            "Adios!! Feliz semana Tec\n"
          ]
        }
      ]
    }
  ],
  "metadata": {
    "colab": {
      "provenance": [],
      "authorship_tag": "ABX9TyP5D4EY5Vq06LsiQ/yQEdgU",
      "include_colab_link": true
    },
    "kernelspec": {
      "display_name": "Python 3",
      "name": "python3"
    },
    "language_info": {
      "name": "python"
    }
  },
  "nbformat": 4,
  "nbformat_minor": 0
}