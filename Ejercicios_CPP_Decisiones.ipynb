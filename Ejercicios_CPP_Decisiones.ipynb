{
  "nbformat": 4,
  "nbformat_minor": 0,
  "metadata": {
    "colab": {
      "provenance": [],
      "authorship_tag": "ABX9TyPMT+agYssq1ewGzsRBwh9X",
      "include_colab_link": true
    },
    "kernelspec": {
      "name": "python3",
      "display_name": "Python 3"
    },
    "language_info": {
      "name": "python"
    }
  },
  "cells": [
    {
      "cell_type": "markdown",
      "metadata": {
        "id": "view-in-github",
        "colab_type": "text"
      },
      "source": [
        "<a href=\"https://colab.research.google.com/github/roque63/TC1033-TC1030-MATERIAL/blob/main/Ejercicios_CPP_Decisiones.ipynb\" target=\"_parent\"><img src=\"https://colab.research.google.com/assets/colab-badge.svg\" alt=\"Open In Colab\"/></a>"
      ]
    },
    {
      "cell_type": "markdown",
      "source": [
        "# Ejercicios condicionales"
      ],
      "metadata": {
        "id": "-l18Jw1ujdCD"
      }
    },
    {
      "cell_type": "code",
      "execution_count": null,
      "metadata": {
        "colab": {
          "base_uri": "https://localhost:8080/"
        },
        "id": "NvZ5TYe2GZpH",
        "outputId": "df6a54f0-4de9-46b9-c1b4-0a8c6b9fc524"
      },
      "outputs": [
        {
          "output_type": "stream",
          "name": "stdout",
          "text": [
            "Overwriting Licencia.cpp\n"
          ]
        }
      ],
      "source": [
        "%%writefile Licencia.cpp\n",
        "\n",
        "//\n",
        "//  1_Licencia.cpp\n",
        "//  Ejercicios 4 - decicisones\n",
        "//\n",
        "//  Created by Ma. Guadalupe Roque Díaz de León on 25/08/23.\n",
        "//\n",
        "\n",
        "#include <iostream>\n",
        "#include <string>\n",
        "using namespace std;\n",
        "\n",
        "int main() {\n",
        "    // 1º declaración de variables\n",
        "    int edad;\n",
        "    string resp;\n",
        "\n",
        "    // 2º Leer datos de entrada\n",
        "    cout << \"Ingresa tu edad: \";\n",
        "    cin >> edad;\n",
        "\n",
        "    // 3º determinar si la edad >= 18\n",
        "    if (edad >= 18){\n",
        "        cout << \"¿Tienes id oficial? (s/n): \";\n",
        "        cin >> resp;\n",
        "        if (resp == \"s\"){\n",
        "            cout << \"Tramite concedido\\n\";\n",
        "        }\n",
        "        else if (resp == \"n\"){\n",
        "            cout << \"No cumples\\n\";\n",
        "        }\n",
        "        else{\n",
        "            cout << \"Respuesta incorrecta\\n\";\n",
        "        }\n",
        "    }\n",
        "    else if (edad > 0){\n",
        "       cout << \"No cumples\\n\";\n",
        "    }\n",
        "    else{\n",
        "       cout << \"Respuesta incorrecta\\n\";\n",
        "    }\n",
        "    return 0;\n",
        "}\n",
        "\n"
      ]
    },
    {
      "cell_type": "code",
      "source": [
        "!g++ Licencia.cpp && ./a.out"
      ],
      "metadata": {
        "colab": {
          "base_uri": "https://localhost:8080/"
        },
        "id": "XFBnQSM2JEA4",
        "outputId": "a06dc7d7-bfd3-427f-b6ec-0d9e5c48bcc8"
      },
      "execution_count": null,
      "outputs": [
        {
          "output_type": "stream",
          "name": "stdout",
          "text": [
            "Ingresa tu edad: 0\n",
            "Respuesta incorrecta\n"
          ]
        }
      ]
    },
    {
      "cell_type": "code",
      "source": [
        "%%writefile 2_Triangulo.cpp\n",
        "#include <iostream>\n",
        "#include <string>\n",
        "using namespace std;\n",
        "int main() {\n",
        "    // 1º Declaración de variables\n",
        "    int X, Y, Z;\n",
        "\n",
        "    // 2º Leer datos de entrada\n",
        "    cout << \"lado 1: \";\n",
        "    cin >>  X ;\n",
        "    cout << \"lado 2: \";\n",
        "    cin >> Y;\n",
        "    cout << \"lado 3: \";\n",
        "    cin >> Z;\n",
        "\n",
        "    // 3º Añade el código adecuado para completar el programa\n",
        "    if ( X > 0 && Y > 0 && Z >> 0) {\n",
        "        if (X + Y > Z && X + Z > Y && Y + Z > X){\n",
        "            if (X == Y && X == Z){ // EQUILATERO\n",
        "                cout << \"ES UN TRIANGULO EQUILATERO\\n\";\n",
        "            }\n",
        "            else if ( (X == Y && X != Z) ||\n",
        "                     (Y == Z && Y != X )||\n",
        "                     (X == Z && X != Y)   ) {// ISOCELES\n",
        "                cout << \"ES UN TRIANGULO ISOSCELES\\n\";\n",
        "            }\n",
        "            else {\n",
        "                cout << \"ES UN TRIANGULO ESCALENO\\n\";\n",
        "            }\n",
        "\n",
        "        }\n",
        "        else {\n",
        "            cout << \"NO ES TRIANGULO\\n\";\n",
        "        }\n",
        "    }\n",
        "    else{\n",
        "        cout << \"NO ES TRIANGULO\\n\";\n",
        "    }\n",
        "\n",
        "\n",
        "    return 0;\n",
        "}\n"
      ],
      "metadata": {
        "colab": {
          "base_uri": "https://localhost:8080/"
        },
        "id": "wpwjkAHYKtuw",
        "outputId": "3ebe3646-027a-433e-baa2-71cc5dde0168"
      },
      "execution_count": null,
      "outputs": [
        {
          "output_type": "stream",
          "name": "stdout",
          "text": [
            "Overwriting 2_Triangulo.cpp\n"
          ]
        }
      ]
    },
    {
      "cell_type": "code",
      "source": [
        "!g++ 2_Triangulo.cpp && ./a.out"
      ],
      "metadata": {
        "colab": {
          "base_uri": "https://localhost:8080/"
        },
        "id": "pLRPXP1UObxm",
        "outputId": "bed93e84-821c-41c1-e562-f4169e677e66"
      },
      "execution_count": null,
      "outputs": [
        {
          "output_type": "stream",
          "name": "stdout",
          "text": [
            "lado 1: 0\n",
            "lado 2: 10\n",
            "lado 3: 10\n",
            "NO ES TRIANGULO\n"
          ]
        }
      ]
    },
    {
      "cell_type": "code",
      "source": [
        "%%writefile 3_Maximo.cpp\n",
        "\n",
        "#include <iostream>\n",
        "#include <string>\n",
        "using namespace std;\n",
        "int main() {\n",
        "  // 1º declaracion de variables\n",
        "  int num1, num2, num3;\n",
        "\n",
        "  // 2º Leer los 3 numeros\n",
        "  cout << \"Teclea un numero: \";\n",
        "  cin >> num1;\n",
        "  cout << \"Teclea otro numero: \";\n",
        "  cin >> num2;\n",
        "  cout << \"Teclea otro numero: \";\n",
        "  cin >> num3;\n",
        "\n",
        "  // 3º Determinar el mayor\n",
        "  if (num1 >= num2 && num1 >= num3 ){\n",
        "    cout << num1 << endl;\n",
        "  }\n",
        "  else if (num2 >= num1 && num2 >= num3 ){\n",
        "    cout << num2 << endl;\n",
        "  }\n",
        "  else {\n",
        "    cout << num3 << endl;\n",
        "  }\n",
        "\n",
        " return 0;\n",
        "}"
      ],
      "metadata": {
        "id": "ElV-9PBFKt40",
        "colab": {
          "base_uri": "https://localhost:8080/"
        },
        "outputId": "9b3acd89-c9ba-4184-9673-189945b3c342"
      },
      "execution_count": null,
      "outputs": [
        {
          "output_type": "stream",
          "name": "stdout",
          "text": [
            "Writing 3_Maximo.cpp\n"
          ]
        }
      ]
    },
    {
      "cell_type": "code",
      "source": [
        "!g++ 3_Maximo.cpp && ./a.out"
      ],
      "metadata": {
        "id": "qhHZH54OOciQ",
        "colab": {
          "base_uri": "https://localhost:8080/"
        },
        "outputId": "024d6a01-9907-4948-b1e2-a51c68f0eb45"
      },
      "execution_count": null,
      "outputs": [
        {
          "output_type": "stream",
          "name": "stdout",
          "text": [
            "\u001b[01m\u001b[Kcc1plus:\u001b[m\u001b[K \u001b[01;31m\u001b[Kfatal error: \u001b[m\u001b[K3_Maximo.cpp: No such file or directory\n",
            "compilation terminated.\n"
          ]
        }
      ]
    },
    {
      "cell_type": "code",
      "source": [
        "%%writefile 4_BMI.cpp\n",
        "\n",
        "#include <iostream>\n",
        "#include <string>\n",
        "using namespace std;\n",
        "int main() {\n",
        "  double imc, peso, altura;\n",
        "\n",
        "  // 2º leer peso y altura\n",
        "cout << \"Peso en kg: \";\n",
        "cin >> peso;\n",
        "cout << \"Altura en m: \";\n",
        "cin >> altura;\n",
        "\n",
        "// 3º calcular el imc\n",
        "imc = peso / (altura * altura);\n",
        "\n",
        "// 4º Determinar y desplegar el diagnostico usando el imc\n",
        "if (imc < 20){\n",
        "  cout << \"PESO BAJO\\n\";\n",
        "}\n",
        "else if (imc < 25){\n",
        "  cout << \"NORMAL\\n\";\n",
        "}\n",
        "else if (imc < 30){\n",
        "  cout << \"SOBREPESO\\n\";\n",
        "}\n",
        "else if (imc < 40) {\n",
        "  cout << \"OBESIDAD\\n\";\n",
        "}\n",
        "else{\n",
        "  cout << \"OBESIDAD MORBIDA\\n\";\n",
        "}\n",
        "\n",
        "return 0;\n",
        "}\n",
        "\n"
      ],
      "metadata": {
        "id": "yQu5NtPrKuA5",
        "colab": {
          "base_uri": "https://localhost:8080/"
        },
        "outputId": "8d6a580e-ec21-46db-f795-ff0bd141c5b8"
      },
      "execution_count": null,
      "outputs": [
        {
          "output_type": "stream",
          "name": "stdout",
          "text": [
            "Writing 4_BMI.cpp\n"
          ]
        }
      ]
    },
    {
      "cell_type": "code",
      "source": [
        "!g++  4_BMI.cpp && ./a.out"
      ],
      "metadata": {
        "id": "qaDqS7VyOdZ7",
        "colab": {
          "base_uri": "https://localhost:8080/"
        },
        "outputId": "65f599a1-896d-4a2a-c35d-f0708c17a711"
      },
      "execution_count": null,
      "outputs": [
        {
          "output_type": "stream",
          "name": "stdout",
          "text": [
            "Peso en kg: 65\n",
            "Altura en m: 1.64\n",
            "NORMAL\n"
          ]
        }
      ]
    },
    {
      "cell_type": "code",
      "source": [
        "%%writefile 5_PtoCircunferencia.cpp"
      ],
      "metadata": {
        "id": "mHH_GZnZKuJN"
      },
      "execution_count": null,
      "outputs": []
    },
    {
      "cell_type": "code",
      "source": [
        "!g++ 5_PtoCircunferencia.cpp && ./a.out"
      ],
      "metadata": {
        "id": "hDyhjAMfOekJ"
      },
      "execution_count": null,
      "outputs": []
    },
    {
      "cell_type": "code",
      "source": [
        "%%writefile 6_Medidas.cpp\n"
      ],
      "metadata": {
        "id": "qTynQwVFKuSD"
      },
      "execution_count": null,
      "outputs": []
    },
    {
      "cell_type": "code",
      "source": [
        "!g++ 6_Medidas.cpp && ./a.out"
      ],
      "metadata": {
        "id": "8cytxNrnOfd6"
      },
      "execution_count": null,
      "outputs": []
    },
    {
      "cell_type": "code",
      "source": [
        "%%writefile 7_Cuadrante.cpp"
      ],
      "metadata": {
        "id": "sL7HAqO6KtiU"
      },
      "execution_count": null,
      "outputs": []
    },
    {
      "cell_type": "code",
      "source": [
        "!g++ 7_Cuadrante.cpp && ./a.out"
      ],
      "metadata": {
        "id": "IzdKFHodOgeH"
      },
      "execution_count": null,
      "outputs": []
    },
    {
      "cell_type": "code",
      "source": [
        "%%writefile 8_Cuadratica.cpp\n",
        "\n",
        "#include <cmath>\n",
        "#include <stdio.h>\n",
        "#include <iostream>\n",
        "using namespace std;\n",
        "int main() {\n",
        "  int a, b, c;\n",
        "  double discriminante, x1,x2;\n",
        "\n",
        "  cout << \"a: \";\n",
        "  cin >> a;\n",
        "  cout << \"b: \";\n",
        "  cin >> b;\n",
        "  cout << \"c: \";\n",
        "  cin >> c;\n",
        "\n",
        "  if (a == 0 && b == 0){\n",
        "    cout << \"No tiene solucion\\n\";\n",
        "  }\n",
        "  else if (a == 0 && b != 0){\n",
        "    cout << -c / b << endl;\n",
        "  }\n",
        "  else if (a != 0 && b!= 0){\n",
        "    discriminante = b * b - 4 * a * c;\n",
        "\n",
        "    if (discriminante < 0){\n",
        "      cout << \"Raices complejas\\n\";\n",
        "    }\n",
        "    else  if(discriminante == 0){\n",
        "      cout << -b / (2 * a)  << endl;\n",
        "    }\n",
        "    else{\n",
        "      x1 = (-b + sqrt(discriminante)) / (2 * a);\n",
        "      x2 = (-b - sqrt(discriminante)) / (2 * a);\n",
        "      cout << x1 << endl;\n",
        "      cout << x2 << endl;\n",
        "\n",
        "    }\n",
        "  }\n",
        "    return 0;\n",
        "}"
      ],
      "metadata": {
        "id": "Y0sMSIsBL9b7",
        "colab": {
          "base_uri": "https://localhost:8080/"
        },
        "outputId": "e92ae665-1e8a-49eb-f460-5e61d4c72d4d"
      },
      "execution_count": null,
      "outputs": [
        {
          "output_type": "stream",
          "name": "stdout",
          "text": [
            "Overwriting 8_Cuadratica.cpp\n"
          ]
        }
      ]
    },
    {
      "cell_type": "code",
      "source": [
        "!g++ 8_Cuadratica.cpp && ./a.out"
      ],
      "metadata": {
        "id": "Rdsqe4Q-L9wX",
        "colab": {
          "base_uri": "https://localhost:8080/"
        },
        "outputId": "029e454c-45fa-481a-bbee-e64bb27de699"
      },
      "execution_count": null,
      "outputs": [
        {
          "output_type": "stream",
          "name": "stdout",
          "text": [
            "a: 1\n",
            "b: 2\n",
            "c: 3\n",
            "Raices complejas\n"
          ]
        }
      ]
    },
    {
      "cell_type": "code",
      "source": [
        "!./a.out"
      ],
      "metadata": {
        "id": "EjCaLrdmL95y",
        "colab": {
          "base_uri": "https://localhost:8080/"
        },
        "outputId": "5c90182b-c55a-4fa0-b5d5-fd56c2cd45d2"
      },
      "execution_count": null,
      "outputs": [
        {
          "output_type": "stream",
          "name": "stdout",
          "text": [
            "a: 0\n",
            "b: 0\n",
            "c: 2\n",
            "No tiene solucion\n"
          ]
        }
      ]
    },
    {
      "cell_type": "code",
      "source": [
        "# Añade TODAS las funciones solicitadas antes de la función main()\n",
        "\n",
        "\n",
        "\n",
        "def calcula_area_cuadrado(lado):\n",
        "    return lado * lado\n",
        "\"\"\"\n",
        "calcula_area_rectangulo(ancho, alto): la función debe recibir como parámetros de entrada los datos\n",
        "que se requieren para calcular el área de un rectángulo y debe retornar el valor calculado del area.\n",
        "area = ancho X alto\n",
        "__\n",
        "\"\"\"\n",
        "def calcula_area_rectangulo(ancho, alto):\n",
        "    return ancho * alto\n",
        "\"\"\"\n",
        "calcula_area_triangulo(a, b, c): la función debe recibir como parámetros de entrada los datos\n",
        "que se requieren para calcular el área de un rectángulo y debe retornar el valor calculado del area\n",
        "usando las siguientes fórmulas matemáticas:\n",
        "__\n",
        "\"\"\"\n",
        "\n",
        "def calcula_area_triangulo(a, b, c):\n",
        "    s = (a + b + c) / 2\n",
        "    area =(s * (s - a) * (s -b) * (s - c))** (1 / 2)\n",
        "    return area\n",
        "\n",
        "\n",
        "\n",
        "\"\"\"\n",
        "__\n",
        "main( ) : la función debe desplegar el menú de opciones, leer la opcion  y posteriormente leer los datos\n",
        "de entrada necesarios para llamar a la función correspondiente,\n",
        "luego se debe desplegar el valor retornado por la función,\n",
        "en caso de indicar una opción diferente el programa de desplegar 'opcion incorrecta' y\n",
        "debe tener una opción de salir en cuyo caso el programa le dice al usuario Adios.\n",
        "(No se incluye el uso de ciclos, solamente condicionales).\n",
        "__\n",
        "\n",
        "Para leer la opcion el programa debe desplegar lo siguiente\n",
        "1. Calcula area del cuadrado\n",
        "2. Calcula area del rectangulo\n",
        "3. Calcula area del triangulo\n",
        "4. Salir\n",
        "Teclea la opcion:\n",
        "\"\"\"\n",
        "def main():\n",
        "\n",
        "    opcion = int(input())\n",
        "\n",
        "    if opcion == 1:\n",
        "        lado = float(input())\n",
        "        print(f\"area = {calcula_area_cuadrado(lado) }\")\n",
        "    elif opcion == 2:\n",
        "        ancho = float(input( ))\n",
        "        alto = float(input() )\n",
        "        print(f\"area = {calcula_area_rectangulo(ancho, alto)}\")\n",
        "    elif opcion == 3:\n",
        "        a = float( input())\n",
        "        b = float(input())\n",
        "        c = float(input())\n",
        "        print(f\"area = {calcula_area_triangulo(a, b, c)}\")\n",
        "    elif opcion == 4:\n",
        "        print(\"Adios\")\n",
        "    else:\n",
        "        print(\"Opcion incorrecta\")\n",
        "\n",
        "\n",
        "\n",
        "if __name__=='__main__':\n",
        "    main()"
      ],
      "metadata": {
        "id": "uCeUDq7UL-BU"
      },
      "execution_count": null,
      "outputs": []
    },
    {
      "cell_type": "code",
      "source": [],
      "metadata": {
        "id": "oz3vtIzvL-JA"
      },
      "execution_count": null,
      "outputs": []
    }
  ]
}